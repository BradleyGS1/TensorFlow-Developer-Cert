{
 "cells": [
  {
   "attachments": {},
   "cell_type": "markdown",
   "metadata": {},
   "source": [
    "# Transfer Learning"
   ]
  },
  {
   "attachments": {},
   "cell_type": "markdown",
   "metadata": {},
   "source": [
    "## Feature Extraction"
   ]
  },
  {
   "cell_type": "code",
   "execution_count": 3,
   "metadata": {},
   "outputs": [
    {
     "name": "stdout",
     "output_type": "stream",
     "text": [
      "There are 2 directories and 0 images in 10_food_classes_10_percent\n",
      "There are 10 directories and 0 images in 10_food_classes_10_percent\\test\n",
      "There are 0 directories and 250 images in 10_food_classes_10_percent\\test\\chicken_curry\n",
      "There are 0 directories and 250 images in 10_food_classes_10_percent\\test\\chicken_wings\n",
      "There are 0 directories and 250 images in 10_food_classes_10_percent\\test\\fried_rice\n",
      "There are 0 directories and 250 images in 10_food_classes_10_percent\\test\\grilled_salmon\n",
      "There are 0 directories and 250 images in 10_food_classes_10_percent\\test\\hamburger\n",
      "There are 0 directories and 250 images in 10_food_classes_10_percent\\test\\ice_cream\n",
      "There are 0 directories and 250 images in 10_food_classes_10_percent\\test\\pizza\n",
      "There are 0 directories and 250 images in 10_food_classes_10_percent\\test\\ramen\n",
      "There are 0 directories and 250 images in 10_food_classes_10_percent\\test\\steak\n",
      "There are 0 directories and 250 images in 10_food_classes_10_percent\\test\\sushi\n",
      "There are 10 directories and 0 images in 10_food_classes_10_percent\\train\n",
      "There are 0 directories and 75 images in 10_food_classes_10_percent\\train\\chicken_curry\n",
      "There are 0 directories and 75 images in 10_food_classes_10_percent\\train\\chicken_wings\n",
      "There are 0 directories and 75 images in 10_food_classes_10_percent\\train\\fried_rice\n",
      "There are 0 directories and 75 images in 10_food_classes_10_percent\\train\\grilled_salmon\n",
      "There are 0 directories and 75 images in 10_food_classes_10_percent\\train\\hamburger\n",
      "There are 0 directories and 75 images in 10_food_classes_10_percent\\train\\ice_cream\n",
      "There are 0 directories and 75 images in 10_food_classes_10_percent\\train\\pizza\n",
      "There are 0 directories and 75 images in 10_food_classes_10_percent\\train\\ramen\n",
      "There are 0 directories and 75 images in 10_food_classes_10_percent\\train\\steak\n",
      "There are 0 directories and 75 images in 10_food_classes_10_percent\\train\\sushi\n"
     ]
    }
   ],
   "source": [
    "# Inspect data files (10% of the total data from Food101)\n",
    "\n",
    "import os\n",
    "\n",
    "# Walk through data\n",
    "\n",
    "for dirpath, dirnames, filenames in os.walk(\"10_food_classes_10_percent\"):\n",
    "    print(f\"There are {len(dirnames)} directories and {len(filenames)} images in {dirpath}\")"
   ]
  },
  {
   "cell_type": "code",
   "execution_count": 4,
   "metadata": {},
   "outputs": [
    {
     "name": "stdout",
     "output_type": "stream",
     "text": [
      "Found 750 images belonging to 10 classes.\n",
      "Found 2500 images belonging to 10 classes.\n"
     ]
    }
   ],
   "source": [
    "# Creating data loaders\n",
    "import tensorflow as tf\n",
    "from keras.preprocessing.image import ImageDataGenerator\n",
    "\n",
    "train_dir = \"10_food_classes_10_percent/train/\"\n",
    "test_dir = \"10_food_classes_10_percent/test/\"\n",
    "\n",
    "train_datagen = ImageDataGenerator(rescale=1/255.)\n",
    "test_datagen = ImageDataGenerator(rescale=1/255.)\n",
    "\n",
    "train_data = train_datagen.flow_from_directory(\n",
    "    train_dir,\n",
    "    target_size=(224, 224),\n",
    "    class_mode=\"categorical\"\n",
    ")\n",
    "\n",
    "test_data = test_datagen.flow_from_directory(\n",
    "    test_dir,\n",
    "    target_size=(224, 224),\n",
    "    class_mode=\"categorical\"\n",
    ")"
   ]
  },
  {
   "cell_type": "code",
   "execution_count": 23,
   "metadata": {},
   "outputs": [],
   "source": [
    "# Setting up TensorBoard callback\n",
    "import datetime\n",
    "from keras.callbacks import TensorBoard\n",
    "\n",
    "def create_tensorboard_callback(dir_name, experiment_name):\n",
    "    log_dir = f\"{dir_name}/{experiment_name}\"\n",
    "    tensorboard_callback = TensorBoard(log_dir=log_dir)\n",
    "    print(f\"Saving TensorBoard log file to {log_dir}\")\n",
    "    return tensorboard_callback"
   ]
  },
  {
   "cell_type": "code",
   "execution_count": 6,
   "metadata": {},
   "outputs": [],
   "source": [
    "# Want to compare two models from tensorflow hub\n",
    "\n",
    "resnet_url = \"https://tfhub.dev/google/imagenet/inception_resnet_v2/feature_vector/5\"\n",
    "\n",
    "efficientnet_url = \"https://tfhub.dev/google/imagenet/efficientnet_v2_imagenet1k_b0/feature_vector/2\""
   ]
  },
  {
   "attachments": {},
   "cell_type": "markdown",
   "metadata": {},
   "source": [
    "### Resnet Model"
   ]
  },
  {
   "cell_type": "code",
   "execution_count": 18,
   "metadata": {},
   "outputs": [],
   "source": [
    "# Making create_model function with arg: url\n",
    "\n",
    "import tensorflow as tf\n",
    "import tensorflow_hub as hub\n",
    "from keras.layers import Input, Dense\n",
    "from keras import Model\n",
    "\n",
    "def create_model(model_url, num_class=10):\n",
    "    \"\"\"\n",
    "    Take a TensorFlow Hub URL and creates a keras model with it.\n",
    "\n",
    "    Args:\n",
    "        model_url (str): TensorFlow Hub feature extraction URL.\n",
    "        num_classes (int): Number of output neurons in output layers.\n",
    "    \"\"\"\n",
    "\n",
    "    # Download pretrained model and save it as a Keras layer\n",
    "    feature_extraction_layer = hub.KerasLayer(model_url,\n",
    "        trainable=False,\n",
    "        name=\"Feature_extraction_layer\"\n",
    "    )\n",
    "\n",
    "    input = Input(shape=(224, 224, 3))\n",
    "    features = feature_extraction_layer(input)\n",
    "    output = Dense(num_class, activation=\"softmax\")(features)\n",
    "\n",
    "    model = Model(inputs=[input], outputs=[output])\n",
    "    return model"
   ]
  },
  {
   "cell_type": "code",
   "execution_count": 19,
   "metadata": {},
   "outputs": [
    {
     "name": "stdout",
     "output_type": "stream",
     "text": [
      "Model: \"model_3\"\n",
      "_________________________________________________________________\n",
      " Layer (type)                Output Shape              Param #   \n",
      "=================================================================\n",
      " input_4 (InputLayer)        [(None, 224, 224, 3)]     0         \n",
      "                                                                 \n",
      " Feature_extraction_layer (K  (None, 1536)             54336736  \n",
      " erasLayer)                                                      \n",
      "                                                                 \n",
      " dense_3 (Dense)             (None, 10)                15370     \n",
      "                                                                 \n",
      "=================================================================\n",
      "Total params: 54,352,106\n",
      "Trainable params: 15,370\n",
      "Non-trainable params: 54,336,736\n",
      "_________________________________________________________________\n"
     ]
    }
   ],
   "source": [
    "# Create Resnet model\n",
    "\n",
    "resnet_model = create_model(resnet_url)\n",
    "\n",
    "resnet_model.summary()"
   ]
  },
  {
   "cell_type": "code",
   "execution_count": 20,
   "metadata": {},
   "outputs": [],
   "source": [
    "# Compile Resnet model\n",
    "\n",
    "from keras.losses import categorical_crossentropy\n",
    "from keras.optimizers import Adam \n",
    "\n",
    "resnet_model.compile(loss=categorical_crossentropy,\n",
    "    optimizer=Adam(),\n",
    "    metrics=[\"accuracy\"])"
   ]
  },
  {
   "cell_type": "code",
   "execution_count": 24,
   "metadata": {},
   "outputs": [
    {
     "name": "stdout",
     "output_type": "stream",
     "text": [
      "Saving TensorBoard log file to tensorflow_hub/resnet_model_food101\n",
      "Epoch 1/5\n",
      "24/24 [==============================] - 52s 2s/step - loss: 1.5267 - accuracy: 0.4880 - val_loss: 0.9578 - val_accuracy: 0.6708\n",
      "Epoch 2/5\n",
      "24/24 [==============================] - 33s 1s/step - loss: 0.8466 - accuracy: 0.7293 - val_loss: 0.7162 - val_accuracy: 0.7704\n",
      "Epoch 3/5\n",
      "24/24 [==============================] - 34s 1s/step - loss: 0.6845 - accuracy: 0.7800 - val_loss: 0.6728 - val_accuracy: 0.7824\n",
      "Epoch 4/5\n",
      "24/24 [==============================] - 34s 1s/step - loss: 0.6029 - accuracy: 0.8267 - val_loss: 0.7026 - val_accuracy: 0.7680\n",
      "Epoch 5/5\n",
      "24/24 [==============================] - 34s 1s/step - loss: 0.5432 - accuracy: 0.8400 - val_loss: 0.6591 - val_accuracy: 0.7804\n"
     ]
    }
   ],
   "source": [
    "# Train Resnet model\n",
    "\n",
    "resnet_history = resnet_model.fit(train_data, \n",
    "    epochs=5, \n",
    "    validation_data=test_data,\n",
    "    callbacks=[create_tensorboard_callback(\"tensorflow_hub\", experiment_name=\"resnet_model_food101\")])"
   ]
  },
  {
   "cell_type": "code",
   "execution_count": 25,
   "metadata": {},
   "outputs": [
    {
     "data": {
      "text/plain": [
       "<Axes: >"
      ]
     },
     "execution_count": 25,
     "metadata": {},
     "output_type": "execute_result"
    },
    {
     "data": {
      "image/png": "[encoded data removed]",
      "text/plain": [
       "<Figure size 640x480 with 1 Axes>"
      ]
     },
     "metadata": {},
     "output_type": "display_data"
    }
   ],
   "source": [
    "# Plot loss curve\n",
    "import matplotlib.pyplot as plt\n",
    "import pandas as pd\n",
    "\n",
    "pd.DataFrame(resnet_history.history).plot()"
   ]
  },
  {
   "attachments": {},
   "cell_type": "markdown",
   "metadata": {},
   "source": [
    "### Efficientnet Model"
   ]
  },
  {
   "cell_type": "code",
   "execution_count": 26,
   "metadata": {},
   "outputs": [
    {
     "name": "stdout",
     "output_type": "stream",
     "text": [
      "Model: \"model_4\"\n",
      "_________________________________________________________________\n",
      " Layer (type)                Output Shape              Param #   \n",
      "=================================================================\n",
      " input_5 (InputLayer)        [(None, 224, 224, 3)]     0         \n",
      "                                                                 \n",
      " Feature_extraction_layer (K  (None, 1280)             5919312   \n",
      " erasLayer)                                                      \n",
      "                                                                 \n",
      " dense_4 (Dense)             (None, 10)                12810     \n",
      "                                                                 \n",
      "=================================================================\n",
      "Total params: 5,932,122\n",
      "Trainable params: 12,810\n",
      "Non-trainable params: 5,919,312\n",
      "_________________________________________________________________\n"
     ]
    }
   ],
   "source": [
    "# Create Efficientnet model\n",
    "\n",
    "efficient_model = create_model(efficientnet_url)\n",
    "\n",
    "efficient_model.summary()"
   ]
  },
  {
   "cell_type": "code",
   "execution_count": 27,
   "metadata": {},
   "outputs": [],
   "source": [
    "# Compile Efficientnet model\n",
    "\n",
    "from keras.losses import categorical_crossentropy\n",
    "from keras.optimizers import Adam \n",
    "\n",
    "efficient_model.compile(loss=categorical_crossentropy,\n",
    "    optimizer=Adam(),\n",
    "    metrics=[\"accuracy\"])"
   ]
  },
  {
   "cell_type": "code",
   "execution_count": 28,
   "metadata": {},
   "outputs": [
    {
     "name": "stdout",
     "output_type": "stream",
     "text": [
      "Saving TensorBoard log file to tensorflow_hub/efficientnet_model_food101\n",
      "Epoch 1/5\n",
      "24/24 [==============================] - 25s 652ms/step - loss: 1.9335 - accuracy: 0.3560 - val_loss: 1.5055 - val_accuracy: 0.6004\n",
      "Epoch 2/5\n",
      "24/24 [==============================] - 13s 569ms/step - loss: 1.2981 - accuracy: 0.6680 - val_loss: 1.1216 - val_accuracy: 0.7116\n",
      "Epoch 3/5\n",
      "24/24 [==============================] - 13s 552ms/step - loss: 1.0071 - accuracy: 0.7560 - val_loss: 0.9530 - val_accuracy: 0.7416\n",
      "Epoch 4/5\n",
      "24/24 [==============================] - 13s 550ms/step - loss: 0.8447 - accuracy: 0.7853 - val_loss: 0.8606 - val_accuracy: 0.7568\n",
      "Epoch 5/5\n",
      "24/24 [==============================] - 13s 575ms/step - loss: 0.7335 - accuracy: 0.8240 - val_loss: 0.7984 - val_accuracy: 0.7660\n"
     ]
    }
   ],
   "source": [
    "# Train Efficientnet model\n",
    "\n",
    "efficient_history = efficient_model.fit(train_data, \n",
    "    epochs=5, \n",
    "    validation_data=test_data,\n",
    "    callbacks=[create_tensorboard_callback(\"tensorflow_hub\", experiment_name=\"efficientnet_model_food101\")])"
   ]
  },
  {
   "cell_type": "code",
   "execution_count": 29,
   "metadata": {},
   "outputs": [
    {
     "data": {
      "text/plain": [
       "<Axes: >"
      ]
     },
     "execution_count": 29,
     "metadata": {},
     "output_type": "execute_result"
    },
    {
     "data": {
      "image/png": "[encoded data removed]",
      "text/plain": [
       "<Figure size 640x480 with 1 Axes>"
      ]
     },
     "metadata": {},
     "output_type": "display_data"
    }
   ],
   "source": [
    "# Plot loss curve\n",
    "import matplotlib.pyplot as plt\n",
    "import pandas as pd\n",
    "\n",
    "pd.DataFrame(efficient_history.history).plot()"
   ]
  },
  {
   "attachments": {},
   "cell_type": "markdown",
   "metadata": {},
   "source": [
    "### Comparing models using TensorBoard"
   ]
  },
  {
   "cell_type": "code",
   "execution_count": 32,
   "metadata": {},
   "outputs": [],
   "source": [
    "# Launching in TensorBoard\n",
    "\n",
    "import tensorboard"
   ]
  }
 ],
 "metadata": {
  "kernelspec": {
   "display_name": "tf",
   "language": "python",
   "name": "python3"
  },
  "language_info": {
   "codemirror_mode": {
    "name": "ipython",
    "version": 3
   },
   "file_extension": ".py",
   "mimetype": "text/x-python",
   "name": "python",
   "nbconvert_exporter": "python",
   "pygments_lexer": "ipython3",
   "version": "3.9.16"
  },
  "orig_nbformat": 4,
  "vscode": {
   "interpreter": {
    "hash": "5de0d89323d0daf4000fb2be5e23b1798d5346fa579c2016b6b23a35c228cbaf"
   }
  }
 },
 "nbformat": 4,
 "nbformat_minor": 2
}
