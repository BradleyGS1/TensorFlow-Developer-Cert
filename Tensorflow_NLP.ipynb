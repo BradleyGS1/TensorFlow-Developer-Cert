{
 "cells": [
  {
   "attachments": {},
   "cell_type": "markdown",
   "metadata": {},
   "source": [
    "# Natural Language Processing"
   ]
  },
  {
   "cell_type": "code",
   "execution_count": 25,
   "metadata": {},
   "outputs": [
    {
     "data": {
      "text/plain": [
       "(array(['So you have a new weapon that can cause un-imaginable destruction.',\n",
       "        'The f$&amp;@ing things I do for #GISHWHES Just got soaked in a deluge going for pads and tampons. Thx @mishacollins @/@',\n",
       "        'DT @georgegalloway: RT @Galloway4Mayor: \\x89ÛÏThe CoL police can catch a pickpocket in Liverpool Stree... http://t.co/vXIn1gOq4Q',\n",
       "        'Aftershock back to school kick off was great. I want to thank everyone for making it possible. What a great night.',\n",
       "        'in response to trauma Children of Addicts develop a defensive self - one that decreases vulnerability. (3',\n",
       "        '@Calum5SOS you look like you got caught in a rainstorm this is amazing and disgusting at the same time',\n",
       "        'my favorite lady came to our volunteer meeting\\nhopefully joining her youth collision and i am excite http://t.co/Ij0wQ490cS',\n",
       "        '@brianroemmele UX fail of EMV - people want to insert and remove quickly like a gas pump stripe reader. 1 person told me it crashed the POS',\n",
       "        \"Can't find my ariana grande shirt  this is a fucking tragedy\",\n",
       "        'The Murderous Story Of America\\x89Ûªs First Hijacking http://t.co/EYUGk6byxr'],\n",
       "       dtype=object),\n",
       " array([1, 0, 1, 0, 0, 0, 1, 1, 0, 1], dtype=int64))"
      ]
     },
     "execution_count": 25,
     "metadata": {},
     "output_type": "execute_result"
    }
   ],
   "source": [
    "# Import data\n",
    "\n",
    "import pandas as pd\n",
    "from sklearn.model_selection import train_test_split\n",
    "\n",
    "train_dir = \"disasters_nlp/train.csv\"\n",
    "test_dir = \"disasters_nlp/test.csv\"\n",
    "\n",
    "train_df = pd.read_csv(train_dir)\n",
    "# Shuffle data\n",
    "train_df_shuffle = train_df.sample(frac=1, random_state=42)\n",
    "\n",
    "# Test data contains no labels\n",
    "test_df = pd.read_csv(test_dir)\n",
    "# Shuffle data\n",
    "test_df_shuffle = test_df.sample(frac=1, random_state=42)\n",
    "\n",
    "test_data = test_df_shuffle[\"text\"].values\n",
    "\n",
    "# Split data into train and validation sets\n",
    "X_train, X_val, y_train, y_val = train_test_split(\n",
    "    train_df_shuffle[\"text\"].to_numpy(),\n",
    "    train_df_shuffle[\"target\"].to_numpy(), \n",
    "    train_size=0.9,\n",
    "    shuffle=False\n",
    ")\n",
    "\n",
    "X_train[:10], y_train[:10]"
   ]
  },
  {
   "cell_type": "code",
   "execution_count": 36,
   "metadata": {},
   "outputs": [
    {
     "data": {
      "text/plain": [
       "<tf.Tensor: shape=(1, 15), dtype=int64, numpy=\n",
       "array([[281,   3, 214,   4,  13, 675,   0,   0,   0,   0,   0,   0,   0,\n",
       "          0,   0]], dtype=int64)>"
      ]
     },
     "execution_count": 36,
     "metadata": {},
     "output_type": "execute_result"
    }
   ],
   "source": [
    "# Setup token vectorisation layer\n",
    "\n",
    "from keras.layers import TextVectorization\n",
    "\n",
    "# Get average length in tokens of each sentence\n",
    "avg_tokens = round(sum([len(sen.split()) for sen in X_train]) / len(X_train))\n",
    "\n",
    "text2vec = TextVectorization(\n",
    "    max_tokens=10000,\n",
    "    output_sequence_length=avg_tokens,\n",
    "    output_mode=\"int\"\n",
    ")\n",
    "\n",
    "text2vec.adapt(X_train)\n",
    "\n",
    "sample_sentence = \"There's a flood in my street\"\n",
    "text2vec([sample_sentence])"
   ]
  },
  {
   "cell_type": "code",
   "execution_count": 39,
   "metadata": {},
   "outputs": [
    {
     "name": "stdout",
     "output_type": "stream",
     "text": [
      "['', '[UNK]', 'the', 'a', 'in', 'to', 'of', 'and', 'i', 'is']\n",
      "['papicongress', 'papi', 'paperback', 'papcrdoll', 'papa', 'pantofel', 'panties', 'panther', 'pantalonesfuego', 'panoramic']\n"
     ]
    }
   ],
   "source": [
    "# Get the vocabulary\n",
    "vocab = text2vec.get_vocabulary()\n",
    "\n",
    "top_10_words = vocab[:10]\n",
    "bottom_10_words = vocab[-10:]\n",
    "\n",
    "print(top_10_words)\n",
    "print(bottom_10_words)"
   ]
  },
  {
   "cell_type": "markdown",
   "metadata": {},
   "source": [
    "# Setup token embedding layer\n",
    "\n",
    "from keras.layers import Embedding\n",
    "\n",
    "embed = Embedding(\n",
    "    input_dim=10000,\n",
    "    input_length=avg_tokens,\n",
    "    output_dim=128\n",
    ")\n",
    "\n",
    "sample_embed = embed(text2vec([sample_sentence]))\n",
    "sample_embed"
   ]
  },
  {
   "cell_type": "code",
   "execution_count": 88,
   "metadata": {},
   "outputs": [
    {
     "name": "stdout",
     "output_type": "stream",
     "text": [
      "Model: \"model_13\"\n",
      "_________________________________________________________________\n",
      " Layer (type)                Output Shape              Param #   \n",
      "=================================================================\n",
      " input_14 (InputLayer)       [(None, 1)]               0         \n",
      "                                                                 \n",
      " text_vectorization_10 (Text  (None, 15)               0         \n",
      " Vectorization)                                                  \n",
      "                                                                 \n",
      " embedding_2 (Embedding)     (None, 15, 128)           1280000   \n",
      "                                                                 \n",
      " lstm_13 (LSTM)              (None, 64)                49408     \n",
      "                                                                 \n",
      " dense_15 (Dense)            (None, 1)                 65        \n",
      "                                                                 \n",
      "=================================================================\n",
      "Total params: 1,329,473\n",
      "Trainable params: 1,329,473\n",
      "Non-trainable params: 0\n",
      "_________________________________________________________________\n"
     ]
    }
   ],
   "source": [
    "# Create LSTM model with 64 hidden units\n",
    "\n",
    "from keras.layers import Input, LSTM, Dense\n",
    "from keras import Model\n",
    "\n",
    "input = Input(shape=(1, ), dtype=\"string\")\n",
    "x = text2vec(input)\n",
    "x = embed(x)\n",
    "x = LSTM(64, activation=\"tanh\")(x)\n",
    "output = Dense(1, activation=\"sigmoid\")(x)\n",
    "\n",
    "model = Model(inputs=[input], outputs=[output])\n",
    "\n",
    "model.summary()"
   ]
  },
  {
   "cell_type": "code",
   "execution_count": 89,
   "metadata": {},
   "outputs": [],
   "source": [
    "# Compile Model\n",
    "\n",
    "from keras.losses import BinaryCrossentropy\n",
    "from keras.optimizers import Adam\n",
    "\n",
    "model.compile(\n",
    "    loss=BinaryCrossentropy(),\n",
    "    optimizer=Adam(),\n",
    "    metrics=[\"accuracy\"]\n",
    ")"
   ]
  },
  {
   "cell_type": "code",
   "execution_count": 90,
   "metadata": {},
   "outputs": [],
   "source": [
    "# Setting up TensorBoard and model checkpoint callback\n",
    "from keras.callbacks import TensorBoard, ModelCheckpoint\n",
    "\n",
    "def create_tensorboard_callback(dir_name, experiment_name):\n",
    "    log_dir = f\"{dir_name}/{experiment_name}\"\n",
    "    tensorboard_callback = TensorBoard(log_dir=log_dir)\n",
    "    print(f\"Saving TensorBoard log file to {log_dir}\")\n",
    "    return tensorboard_callback\n",
    "\n",
    "def create_modelcheckpoint_callback(dir_name, experiment_name):\n",
    "    log_dir = f\"{dir_name}/{experiment_name}\"\n",
    "    modelcheckpoint_callback = ModelCheckpoint(filepath=log_dir,\n",
    "        monitor=\"val_accuracy\",\n",
    "        save_best_only=True,\n",
    "        save_weights_only=True)\n",
    "    print(f\"Saving model checkpoint to {log_dir}\")\n",
    "    return modelcheckpoint_callback"
   ]
  },
  {
   "cell_type": "code",
   "execution_count": 91,
   "metadata": {},
   "outputs": [
    {
     "name": "stdout",
     "output_type": "stream",
     "text": [
      "Saving TensorBoard log file to disaster_nlp_callback/lstm\n",
      "Saving model checkpoint to disaster_nlp_callback/lstm\n",
      "Epoch 1/5\n",
      "215/215 [==============================] - 5s 12ms/step - loss: 0.1280 - accuracy: 0.9441 - val_loss: 0.9271 - val_accuracy: 0.7756\n",
      "Epoch 2/5\n",
      "215/215 [==============================] - 2s 8ms/step - loss: 0.0486 - accuracy: 0.9781 - val_loss: 1.4307 - val_accuracy: 0.7572\n",
      "Epoch 3/5\n",
      "215/215 [==============================] - 2s 8ms/step - loss: 0.0450 - accuracy: 0.9796 - val_loss: 1.2481 - val_accuracy: 0.7375\n",
      "Epoch 4/5\n",
      "215/215 [==============================] - 2s 9ms/step - loss: 0.0364 - accuracy: 0.9828 - val_loss: 1.3121 - val_accuracy: 0.7533\n",
      "Epoch 5/5\n",
      "215/215 [==============================] - 2s 9ms/step - loss: 0.0502 - accuracy: 0.9775 - val_loss: 1.1505 - val_accuracy: 0.7507\n"
     ]
    }
   ],
   "source": [
    "# Train model\n",
    "\n",
    "dir_name = \"disaster_nlp_callback\"\n",
    "experiment_name = \"lstm\"\n",
    "\n",
    "history = model.fit(\n",
    "    X_train,\n",
    "    y_train,\n",
    "    epochs=5,\n",
    "    validation_data=(X_val, y_val),\n",
    "    callbacks=[\n",
    "        create_tensorboard_callback(dir_name, experiment_name),\n",
    "        create_modelcheckpoint_callback(dir_name, experiment_name)\n",
    "    ]\n",
    ")"
   ]
  },
  {
   "cell_type": "code",
   "execution_count": 92,
   "metadata": {},
   "outputs": [
    {
     "data": {
      "text/plain": [
       "<Axes: >"
      ]
     },
     "execution_count": 92,
     "metadata": {},
     "output_type": "execute_result"
    },
    {
     "data": {
      "image/png": "[encoded data removed]",
      "text/plain": [
       "<Figure size 640x480 with 1 Axes>"
      ]
     },
     "metadata": {},
     "output_type": "display_data"
    }
   ],
   "source": [
    "# Show training curves\n",
    "\n",
    "pd.DataFrame(history.history).plot()"
   ]
  },
  {
   "cell_type": "code",
   "execution_count": 102,
   "metadata": {},
   "outputs": [
    {
     "name": "stdout",
     "output_type": "stream",
     "text": [
      "Model: \"model_17\"\n",
      "_________________________________________________________________\n",
      " Layer (type)                Output Shape              Param #   \n",
      "=================================================================\n",
      " input_18 (InputLayer)       [(None, 1)]               0         \n",
      "                                                                 \n",
      " text_vectorization_10 (Text  (None, 15)               0         \n",
      " Vectorization)                                                  \n",
      "                                                                 \n",
      " embedding_2 (Embedding)     (None, 15, 128)           1280000   \n",
      "                                                                 \n",
      " dropout_7 (Dropout)         (None, 15, 128)           0         \n",
      "                                                                 \n",
      " bidirectional_12 (Bidirecti  (None, 12)               6480      \n",
      " onal)                                                           \n",
      "                                                                 \n",
      " dense_19 (Dense)            (None, 1)                 13        \n",
      "                                                                 \n",
      "=================================================================\n",
      "Total params: 1,286,493\n",
      "Trainable params: 1,286,493\n",
      "Non-trainable params: 0\n",
      "_________________________________________________________________\n"
     ]
    }
   ],
   "source": [
    "# Create biderectional LSTM model with 6 hidden units each way\n",
    "# and a dropout layer with drop probability of 0.99\n",
    "\n",
    "from keras.layers import Input, LSTM, Dense, Bidirectional, Dropout\n",
    "from keras import Model\n",
    "\n",
    "input = Input(shape=(1, ), dtype=\"string\")\n",
    "x = text2vec(input)\n",
    "x = embed(x)\n",
    "x = Dropout(rate=0.99)(x)\n",
    "x = Bidirectional(LSTM(6, activation=\"tanh\"))(x)\n",
    "output = Dense(1, activation=\"sigmoid\")(x)\n",
    "\n",
    "model_2 = Model(inputs=[input], outputs=[output])\n",
    "\n",
    "model_2.summary()"
   ]
  },
  {
   "cell_type": "code",
   "execution_count": 103,
   "metadata": {},
   "outputs": [],
   "source": [
    "# Compile Model\n",
    "\n",
    "from keras.losses import BinaryCrossentropy\n",
    "from keras.optimizers import Adam\n",
    "\n",
    "model_2.compile(\n",
    "    loss=BinaryCrossentropy(),\n",
    "    optimizer=Adam(1e-3),\n",
    "    metrics=[\"accuracy\"]\n",
    ")"
   ]
  },
  {
   "cell_type": "code",
   "execution_count": 104,
   "metadata": {},
   "outputs": [
    {
     "name": "stdout",
     "output_type": "stream",
     "text": [
      "Saving TensorBoard log file to disaster_nlp_callback/bidirectional_lstm\n",
      "Saving model checkpoint to disaster_nlp_callback/bidirectional_lstm\n",
      "Epoch 1/5\n",
      "215/215 [==============================] - 7s 17ms/step - loss: 0.6506 - accuracy: 0.6106 - val_loss: 0.6020 - val_accuracy: 0.7113\n",
      "Epoch 2/5\n",
      "215/215 [==============================] - 3s 13ms/step - loss: 0.5038 - accuracy: 0.7705 - val_loss: 0.5646 - val_accuracy: 0.7638\n",
      "Epoch 3/5\n",
      "215/215 [==============================] - 3s 13ms/step - loss: 0.4211 - accuracy: 0.8164 - val_loss: 0.5803 - val_accuracy: 0.7690\n",
      "Epoch 4/5\n",
      "215/215 [==============================] - 3s 13ms/step - loss: 0.3870 - accuracy: 0.8339 - val_loss: 0.5767 - val_accuracy: 0.7848\n",
      "Epoch 5/5\n",
      "215/215 [==============================] - 3s 13ms/step - loss: 0.3710 - accuracy: 0.8428 - val_loss: 0.5649 - val_accuracy: 0.7887\n"
     ]
    }
   ],
   "source": [
    "# Train model\n",
    "\n",
    "dir_name = \"disaster_nlp_callback\"\n",
    "experiment_name = \"bidirectional_lstm\"\n",
    "\n",
    "history_2 = model_2.fit(\n",
    "    X_train,\n",
    "    y_train,\n",
    "    epochs=5,\n",
    "    validation_data=(X_val, y_val),\n",
    "    callbacks=[\n",
    "        create_tensorboard_callback(dir_name, experiment_name),\n",
    "        create_modelcheckpoint_callback(dir_name, experiment_name)\n",
    "    ]\n",
    ")"
   ]
  },
  {
   "cell_type": "code",
   "execution_count": 105,
   "metadata": {},
   "outputs": [
    {
     "data": {
      "text/plain": [
       "<Axes: >"
      ]
     },
     "execution_count": 105,
     "metadata": {},
     "output_type": "execute_result"
    },
    {
     "data": {
      "image/png": "[encoded data removed]",
      "text/plain": [
       "<Figure size 640x480 with 1 Axes>"
      ]
     },
     "metadata": {},
     "output_type": "display_data"
    }
   ],
   "source": [
    "import pandas as pd\n",
    "\n",
    "pd.DataFrame(history_2.history).plot()"
   ]
  }
 ],
 "metadata": {
  "kernelspec": {
   "display_name": "tf",
   "language": "python",
   "name": "python3"
  },
  "language_info": {
   "codemirror_mode": {
    "name": "ipython",
    "version": 3
   },
   "file_extension": ".py",
   "mimetype": "text/x-python",
   "name": "python",
   "nbconvert_exporter": "python",
   "pygments_lexer": "ipython3",
   "version": "3.9.16"
  },
  "orig_nbformat": 4,
  "vscode": {
   "interpreter": {
    "hash": "5de0d89323d0daf4000fb2be5e23b1798d5346fa579c2016b6b23a35c228cbaf"
   }
  }
 },
 "nbformat": 4,
 "nbformat_minor": 2
}
